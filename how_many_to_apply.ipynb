{
 "cells": [
  {
   "cell_type": "code",
   "execution_count": 1,
   "id": "liquid-maine",
   "metadata": {},
   "outputs": [],
   "source": [
    "import numpy as np\n",
    "import matplotlib.pyplot as plt"
   ]
  },
  {
   "cell_type": "markdown",
   "id": "surprised-lobby",
   "metadata": {},
   "source": [
    "I am going to look at each application as a binomial experiment!"
   ]
  },
  {
   "cell_type": "code",
   "execution_count": 2,
   "id": "applied-recipe",
   "metadata": {},
   "outputs": [],
   "source": [
    "from scipy.stats import binom"
   ]
  },
  {
   "cell_type": "markdown",
   "id": "considered-enterprise",
   "metadata": {},
   "source": [
    "This is the \"success\" rate per application. For reference: NHFP was 6 % a couple of years ago."
   ]
  },
  {
   "cell_type": "code",
   "execution_count": 3,
   "id": "manufactured-salvation",
   "metadata": {},
   "outputs": [],
   "source": [
    "p  = 10/100 "
   ]
  },
  {
   "cell_type": "code",
   "execution_count": 4,
   "id": "fuzzy-writer",
   "metadata": {},
   "outputs": [],
   "source": [
    "p = 20/100"
   ]
  },
  {
   "cell_type": "markdown",
   "id": "nonprofit-trademark",
   "metadata": {},
   "source": [
    "This is the number of minimum job offers."
   ]
  },
  {
   "cell_type": "code",
   "execution_count": 5,
   "id": "unnecessary-tournament",
   "metadata": {},
   "outputs": [],
   "source": [
    "k = 2 "
   ]
  },
  {
   "cell_type": "markdown",
   "id": "prostate-advocate",
   "metadata": {},
   "source": [
    "Anything above k is good. So to compute the 'atleast k' job offers, I am going to sum the probability mass function."
   ]
  },
  {
   "cell_type": "code",
   "execution_count": 6,
   "id": "hungarian-armstrong",
   "metadata": {},
   "outputs": [],
   "source": [
    "def summed_pmf(k,n,p):\n",
    "    'Binomial Probability Mass function summation'\n",
    "    sum_ = 0\n",
    "    for k in np.arange(k,n+1):\n",
    "        sum_ += binom.pmf(k,n,p)  # summing probabilities\n",
    "    return sum_"
   ]
  },
  {
   "cell_type": "code",
   "execution_count": 7,
   "id": "extensive-carpet",
   "metadata": {},
   "outputs": [],
   "source": [
    "p_success = []"
   ]
  },
  {
   "cell_type": "code",
   "execution_count": 8,
   "id": "intimate-departure",
   "metadata": {},
   "outputs": [
    {
     "name": "stdout",
     "output_type": "stream",
     "text": [
      "probability of atleast 2 job offers hits 49.67% by 9 applications (assuming 20.0% success).\n",
      "\n",
      "probability of atleast 2 job offers hits 80.21% by 15 applications (assuming 20.0% success rate).\n",
      "\n",
      "probability of atleast 2 job offers hits 98.72% by 30 applications (assuming 20.0% success rate).\n",
      "\n"
     ]
    }
   ],
   "source": [
    "n=1\n",
    "\n",
    "while True:\n",
    "\n",
    "# for i, n in enumerate(ns):\n",
    "    p_ = summed_pmf(k,n,p)\n",
    "    p_success.append(p_)\n",
    "    n+=1\n",
    "    \n",
    "    if abs(max(p_success) - 0.5)<0.015:\n",
    "        print(f\"probability of atleast {k} job offers hits {p_*100:.2f}% by {n} applications (assuming {p*100}% success).\\n\")\n",
    "        \n",
    "    if abs(max(p_success) - 0.8)<0.015:        \n",
    "        print(f\"probability of atleast {k} job offers hits {p_*100:.2f}% by {n} applications (assuming {p*100}% success rate).\\n\")\n",
    "    \n",
    "    if abs(max(p_success) - 1.0)<0.015:        \n",
    "        print(f\"probability of atleast {k} job offers hits {p_*100:.2f}% by {n} applications (assuming {p*100}% success rate).\\n\")\n",
    "        break \n",
    "    \n"
   ]
  },
  {
   "cell_type": "code",
   "execution_count": 9,
   "id": "nervous-ferry",
   "metadata": {},
   "outputs": [
    {
     "data": {
      "image/png": "[encoded data removed]",
      "text/plain": [
       "<Figure size 432x288 with 1 Axes>"
      ]
     },
     "metadata": {
      "needs_background": "light"
     },
     "output_type": "display_data"
    }
   ],
   "source": [
    "fig, ax = plt.subplots()\n",
    "ns = np.arange(1, len(p_success)+1)\n",
    "\n",
    "ax.plot(ns, p_success)\n",
    "\n",
    "ax.grid(1, ls=\"dashed\")\n",
    "\n",
    "ax.set_ylabel(\"probability\")\n",
    "\n",
    "ax.set_xlabel(\"# of applications\")\n",
    "\n",
    "ax.set_title(f\"for {p * 100}% success\")\n",
    "\n",
    "ax.axvline(x=np.interp(0.5, p_success, ns),ymin=0,ymax=0.5,color='grey')\n",
    "ax.axvline(x=np.interp(0.75, p_success, ns),ymin=0,ymax=0.73,color='grey')\n",
    "ax.axvline(x=np.interp(0.95, p_success, ns),ymin=0,ymax=0.93,color='grey')\n",
    "\n",
    "_ = ax.set_xticks(np.arange(0, max(ns), 5))"
   ]
  },
  {
   "cell_type": "code",
   "execution_count": null,
   "id": "floating-hughes",
   "metadata": {},
   "outputs": [],
   "source": []
  }
 ],
 "metadata": {
  "kernelspec": {
   "display_name": "Python 3",
   "language": "python",
   "name": "python3"
  },
  "language_info": {
   "codemirror_mode": {
    "name": "ipython",
    "version": 3
   },
   "file_extension": ".py",
   "mimetype": "text/x-python",
   "name": "python",
   "nbconvert_exporter": "python",
   "pygments_lexer": "ipython3",
   "version": "3.8.8"
  }
 },
 "nbformat": 4,
 "nbformat_minor": 5
}
